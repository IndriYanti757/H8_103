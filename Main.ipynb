{
 "cells": [
  {
   "cell_type": "code",
   "execution_count": 10,
   "metadata": {},
   "outputs": [
    {
     "name": "stdout",
     "output_type": "stream",
     "text": [
      "123123123123123123123123123123123123123123123124\n"
     ]
    }
   ],
   "source": [
    "# INTEGER\n",
    "print(123123123123123123123123123123123123123123123123 + 1) #bisa untuk integer sepanjang apapun"
   ]
  },
  {
   "cell_type": "code",
   "execution_count": 11,
   "metadata": {},
   "outputs": [
    {
     "name": "stdout",
     "output_type": "stream",
     "text": [
      "10\n",
      "<class 'int'>\n"
     ]
    }
   ],
   "source": [
    "# Python menginterpretasikan urutan angka desimal tanpa awalan apapun menjadi angka desimal\n",
    "print(10)\n",
    "print(type(10))"
   ]
  },
  {
   "cell_type": "code",
   "execution_count": 12,
   "metadata": {},
   "outputs": [
    {
     "name": "stdout",
     "output_type": "stream",
     "text": [
      "4.2\n",
      "<class 'float'>\n",
      "4.0\n",
      "0.2\n",
      "4000000.0\n",
      "0.00042\n"
     ]
    }
   ],
   "source": [
    "# FLOATING-POINT NUMBER\n",
    "# Tipe float di Python menunjukkan bilangan floating-point\n",
    "print(4.2)\n",
    "print(type(4.2))\n",
    "\n",
    "print(4.)\n",
    "\n",
    "print(.2)\n",
    "\n",
    "print(.4e7)  # e7 artinya 10^7, kslau ada tanda . berarti diprint dalam bentuk float\n",
    "\n",
    "print(4.2e-4) # e-4 artinya 10^-4"
   ]
  },
  {
   "cell_type": "code",
   "execution_count": 13,
   "metadata": {},
   "outputs": [
    {
     "name": "stdout",
     "output_type": "stream",
     "text": [
      "Hacktiv8\n",
      "<class 'str'>\n"
     ]
    }
   ],
   "source": [
    "# STRING\n",
    "# Tipe data string (str) jika ingin diprint maka menggunakan tanda kutip tunggal atau ganda \n",
    "# `  ` : tanda petik\n",
    "# '  ' : tanda kutip tunggal\n",
    "# \"  \" : tanda kutip ganda\n",
    "\n",
    "print(\"Hacktiv8\")\n",
    "print(type('Hacktive8'))"
   ]
  },
  {
   "cell_type": "code",
   "execution_count": 14,
   "metadata": {},
   "outputs": [
    {
     "name": "stdout",
     "output_type": "stream",
     "text": [
      " \n",
      "This string contains a single quote (') character.\n",
      "This string contains a double quote (\") character.\n"
     ]
    }
   ],
   "source": [
    "# String dalam Python dapat berisi karakter sebanyak yang diinginkan tergantung resource memori yang dimiliki\n",
    "# String juga boleh kosong\n",
    "\n",
    "print(' ')  # Kalau kosong tidak dieksekusi\n",
    "print(\"This string contains a single quote (') character.\")\n",
    "\n",
    "print('This string contains a double quote (\") character.')"
   ]
  },
  {
   "cell_type": "code",
   "execution_count": 15,
   "metadata": {},
   "outputs": [
    {
     "name": "stdout",
     "output_type": "stream",
     "text": [
      "<class 'bool'>\n",
      "<class 'bool'>\n"
     ]
    }
   ],
   "source": [
    "# TIPE BOOLEAN DAN TRUTHINESS (KEBENARAN)\n",
    "print(type(True))\n",
    "\n",
    "print(type(False))"
   ]
  },
  {
   "cell_type": "code",
   "execution_count": 20,
   "metadata": {},
   "outputs": [
    {
     "name": "stdout",
     "output_type": "stream",
     "text": [
      "300\n"
     ]
    }
   ],
   "source": [
    "# VARIABLE ASSIGNMENT\n",
    "\n",
    "# Di Python, variabel tidak perlu dideklarasikan atau didefinisikan sebelumhya, seperti halnya di banyak \n",
    "# bahasa pemrograman lainnya.\n",
    "# Untuk membuat variabel, cukup menetapkan nilai dan bisa digunakan.\n",
    "# Variable assignment dilakukan dengan satu tanda sama dengan (=)\n",
    "\n",
    "n = 300\n",
    "print(n)"
   ]
  },
  {
   "cell_type": "code",
   "execution_count": 21,
   "metadata": {},
   "outputs": [
    {
     "data": {
      "text/plain": [
       "300"
      ]
     },
     "execution_count": 21,
     "metadata": {},
     "output_type": "execute_result"
    }
   ],
   "source": [
    "n"
   ]
  },
  {
   "cell_type": "code",
   "execution_count": 22,
   "metadata": {},
   "outputs": [
    {
     "name": "stdout",
     "output_type": "stream",
     "text": [
      "300 300 300\n"
     ]
    }
   ],
   "source": [
    "# CHAIN ASSIGNMENT \n",
    "# Menetapkan nilai yang sama ke beberapa variabel secara bersamaan:\n",
    "a = b = c = 300\n",
    "print(a, b, c)"
   ]
  }
 ],
 "metadata": {
  "kernelspec": {
   "display_name": "base",
   "language": "python",
   "name": "python3"
  },
  "language_info": {
   "codemirror_mode": {
    "name": "ipython",
    "version": 3
   },
   "file_extension": ".py",
   "mimetype": "text/x-python",
   "name": "python",
   "nbconvert_exporter": "python",
   "pygments_lexer": "ipython3",
   "version": "3.11.5"
  }
 },
 "nbformat": 4,
 "nbformat_minor": 2
}
